{
 "cells": [
  {
   "cell_type": "markdown",
   "metadata": {},
   "source": [
    "### The Reality of Global Warming"
   ]
  },
  {
   "cell_type": "markdown",
   "metadata": {},
   "source": [
    "\n",
    "There has been a worldwide movement in recent years to adopt more renewable energy sources in order to mitigate the impacts of global warming.  Calls are being made to increase the use of renewable energy for the generation of electricity by moving away from fossil fuels.\n",
    "\n",
    "Power is produced by converting some other form of energy from its raw form into electricity.  These raw sources can be renewable energy such as hydro, solar, wind, and biofuels or nonrenewable energy such as coal, oil, natural gas, and nuclear.\n",
    "\n",
    "Currently humanity worldwide is overly dependent on the burning of fossil fuels for the generation of electricity.  Despite the good intentions of forcing the use of renewables, the reality is that we will need to remain critically dependent on fossil fuels for many years to come.\n",
    "\n",
    "This visualization is used to show the overwhelming reliance humans have on fossil fuels for the generation of electricity and the sobering reality of how much society needs to change in order to completely move away from their use."
   ]
  },
  {
   "cell_type": "markdown",
   "metadata": {},
   "source": []
  },
  {
   "cell_type": "markdown",
   "metadata": {},
   "source": [
    "*Discuss your dataset, including the data’s source, key attributes/dimensions of the data*\n",
    "\n",
    "The “Data on Energy” dataset was selected from the \"Our World in Data\" github repository (https://github.com/owid/energy-data).  This dataset contains a robust amount of information of energy producton and consumption.\n",
    "\n",
    "A subset of the data was taken from 1965 to 2018 focusing on the types of energy which are used to create electricity for each continent.  "
   ]
  },
  {
   "cell_type": "code",
   "execution_count": 3,
   "metadata": {},
   "outputs": [],
   "source": [
    "# Importing python packages\n",
    "import pandas as pd\n",
    "import altair as alt"
   ]
  },
  {
   "cell_type": "code",
   "execution_count": null,
   "metadata": {},
   "outputs": [],
   "source": []
  }
 ],
 "metadata": {
  "interpreter": {
   "hash": "710bc052465d42959114ed373ef47569866b95a2630eb07410e83cf69e3117ee"
  },
  "kernelspec": {
   "display_name": "Python 3.9.5 ('base')",
   "language": "python",
   "name": "python3"
  },
  "language_info": {
   "codemirror_mode": {
    "name": "ipython",
    "version": 3
   },
   "file_extension": ".py",
   "mimetype": "text/x-python",
   "name": "python",
   "nbconvert_exporter": "python",
   "pygments_lexer": "ipython3",
   "version": "3.9.5"
  },
  "orig_nbformat": 4
 },
 "nbformat": 4,
 "nbformat_minor": 2
}
